{
 "cells": [
  {
   "cell_type": "markdown",
   "id": "2657b506",
   "metadata": {},
   "source": [
    "### 1. 영상의 속성 \n",
    " - ndim = 차원수 \n",
    " - shape = (h,w) 또는 (h,w,3)\n",
    " - size = 전체 원소 개수\n",
    " - dtype = 원소 데이터 타입 uint8\n",
    " \n",
    " \n",
    " **dataType**\n",
    " \n",
    "| OpenCV       | 자료형 (1채널) NumPy   | 자료형 구분  |   |   |\n",
    "|----------------------------------------------|---|---|---|---|\n",
    "| cv2.CV_8U     | numpy.uint8   | 8비트 부호없는 정수  |   |   |\n",
    "| cv2.CV_8S      | numpy.int8   |  8비트 부호있는 정수 |   |   |\n",
    "| cv2.CV_16U  | numpy.uint16   | 16비트 부호없는 정수  |   |   |\n",
    "| cv2.CV_16S   | numpy.int16   |16비트 부호있는 정수   |   |   |\n",
    "| cv2.CV_32S   |  numpy.int32  | 32비트 부호있는 정수  |   |   |\n",
    "| cv2.CV_32F    | numpy.float32   |32비트 부동소수형   |   |   |\n",
    "| cv2.CV_64F    |  numpy.float64  |  64비트 부동소수형 |   |   |\n",
    "| cv2.CV_16F    |  numpy.float16  |  16비트 부동소수형 |   |   |"
   ]
  },
  {
   "cell_type": "code",
   "execution_count": 1,
   "id": "cd936600",
   "metadata": {},
   "outputs": [],
   "source": [
    "import cv2 ,sys\n",
    "# filename = r'C:\\Users\\2kim\\Desktop\\image1.jpg'\n",
    "filename = r'C:\\Users\\User\\Desktop\\22Y_FC_openCV\\imagefolder\\cat.jpg'\n",
    "\n",
    "img1 = cv2.imread(filename,cv2.IMREAD_GRAYSCALE)\n",
    "img2 = cv2.imread(filename,cv2.IMREAD_COLOR)"
   ]
  },
  {
   "cell_type": "code",
   "execution_count": 3,
   "id": "ccc36175",
   "metadata": {},
   "outputs": [
    {
     "data": {
      "text/plain": [
       "(numpy.ndarray, (2000, 3000), dtype('uint8'))"
      ]
     },
     "execution_count": 3,
     "metadata": {},
     "output_type": "execute_result"
    }
   ],
   "source": [
    "type(img1) , img1.shape, img1.dtype"
   ]
  },
  {
   "cell_type": "code",
   "execution_count": 4,
   "id": "18e6e9f8",
   "metadata": {},
   "outputs": [
    {
     "data": {
      "text/plain": [
       "(numpy.ndarray, (2000, 3000, 3), dtype('uint8'))"
      ]
     },
     "execution_count": 4,
     "metadata": {},
     "output_type": "execute_result"
    }
   ],
   "source": [
    "type(img2) ,img2.shape ,img2.dtype"
   ]
  },
  {
   "cell_type": "code",
   "execution_count": 5,
   "id": "1f9f08c2",
   "metadata": {},
   "outputs": [
    {
     "name": "stdout",
     "output_type": "stream",
     "text": [
      "이미지는 gray\n"
     ]
    }
   ],
   "source": [
    "if img1.ndim==2: \n",
    "    print('이미지는 gray')\n",
    "else :\n",
    "    print(\"이미지는 color\")\n",
    "    "
   ]
  },
  {
   "cell_type": "code",
   "execution_count": 6,
   "id": "6e8c6941",
   "metadata": {},
   "outputs": [
    {
     "name": "stdout",
     "output_type": "stream",
     "text": [
      "img1 : 629width X 819height\n",
      "img2 : 629width X 819height\n"
     ]
    }
   ],
   "source": [
    "cv2.imshow('gray',img1)\n",
    "cv2.imshow('color',img2)\n",
    "cv2.waitKey()\n",
    "h,w = img1.shape[:2]\n",
    "print(f\"img1 : {w}width X {h}height\")\n",
    "h,w = img2.shape[:2] # channel이 3이므로 앞의 2개만 가져온다\n",
    "print(f\"img2 : {w}width X {h}height\")"
   ]
  },
  {
   "cell_type": "markdown",
   "id": "a864891b",
   "metadata": {},
   "source": [
    "### 2. 픽셀값 처리"
   ]
  },
  {
   "cell_type": "code",
   "execution_count": 6,
   "id": "33a6d91f",
   "metadata": {},
   "outputs": [
    {
     "data": {
      "text/plain": [
       "(158, array([130, 151, 183], dtype=uint8))"
      ]
     },
     "execution_count": 6,
     "metadata": {},
     "output_type": "execute_result"
    }
   ],
   "source": [
    "x=400\n",
    "y=500\n",
    "\n",
    "p1 = img1[y,x]\n",
    "p2 = img2[y,x]\n",
    "p1,p2"
   ]
  },
  {
   "cell_type": "code",
   "execution_count": 6,
   "id": "17e1044b",
   "metadata": {},
   "outputs": [
    {
     "data": {
      "text/plain": [
       "-1"
      ]
     },
     "execution_count": 6,
     "metadata": {},
     "output_type": "execute_result"
    }
   ],
   "source": [
    "# Bad Code ! for loop은 엄청 느리다! 절대 작성하지 말라!! for python\n",
    "for x in range(300,500):\n",
    "    for y in range(300,500):\n",
    "        img1[y,x]=0 \n",
    "        img2[y,x]=(0,0,255)\n",
    "        \n",
    "cv2.imshow('img1',img1)\n",
    "cv2.imshow('img2',img2)\n",
    "cv2.waitKey()\n",
    "\n",
    "# Good Code ! numpy 에서 제공하는 함수를 사용하는 것이 좋다\n",
    "img1[300:500,300:500] = 125\n",
    "img2[300:500,300:500] = (0,255,0)\n",
    "\n",
    "cv2.imshow('img1',img1)\n",
    "cv2.imshow('img2',img2)\n",
    "cv2.waitKey()"
   ]
  },
  {
   "cell_type": "markdown",
   "id": "ef433089",
   "metadata": {},
   "source": [
    "## 영상의 생성,복사,부분추출\n",
    "### 영상의 생성\n",
    " - numpy.empty(shape,dtype=float,...)\n",
    " - numpy.zeros(shape,dtype=float,...)\n",
    " - numpy.ones(shape,dtype=float,...)\n",
    " - numpy.full(shape,fill_value, dtype=float,...)"
   ]
  },
  {
   "cell_type": "code",
   "execution_count": 7,
   "id": "06cd4c89",
   "metadata": {},
   "outputs": [
    {
     "data": {
      "text/plain": [
       "-1"
      ]
     },
     "execution_count": 7,
     "metadata": {},
     "output_type": "execute_result"
    }
   ],
   "source": [
    "import numpy as np\n",
    "\n",
    "img3 = np.empty((240,320),dtype=np.uint8)\n",
    "img4 = np.zeros((240,320,3), dtype=np.uint8)\n",
    "img5 = np.ones((240,320,3),dtype = np.uint8) *255 \n",
    "img6 = np.full((240,320), 128,dtype = np.uint8) # \n",
    "\n",
    "cv2.imshow('img3_empty_random',img3)\n",
    "cv2.imshow('img4_zeros',img4)\n",
    "cv2.imshow('img5_ones_white',img5)\n",
    "cv2.imshow('img6_full_gray',img6)\n",
    "cv2.waitKey()"
   ]
  },
  {
   "cell_type": "markdown",
   "id": "7d3682da",
   "metadata": {},
   "source": [
    "### 영상의 복사"
   ]
  },
  {
   "cell_type": "code",
   "execution_count": 10,
   "id": "d0d19ccc",
   "metadata": {},
   "outputs": [
    {
     "data": {
      "text/plain": [
       "-1"
      ]
     },
     "execution_count": 10,
     "metadata": {},
     "output_type": "execute_result"
    }
   ],
   "source": [
    "img3 = cv2.imread(filename)\n",
    "img4 = img3 # img3변경시 img4 변경됨 (메모리 주소공유) -> 밑에 ROI에 활용방법 있음\n",
    "img5 = img3.copy() # 새로운 복사본 생성 (새로운 메모리에 할당)\n",
    "\n",
    "cv2.imshow('img3',img3)\n",
    "cv2.imshow('img4',img4)\n",
    "cv2.waitKey()\n"
   ]
  },
  {
   "cell_type": "markdown",
   "id": "9a11ac08",
   "metadata": {},
   "source": [
    "### 영상 부분 추출"
   ]
  },
  {
   "cell_type": "code",
   "execution_count": 11,
   "id": "b09802b1",
   "metadata": {},
   "outputs": [
    {
     "data": {
      "text/plain": [
       "-1"
      ]
     },
     "execution_count": 11,
     "metadata": {},
     "output_type": "execute_result"
    }
   ],
   "source": [
    "img4 = img3[200:400,200:400] # img3변경시 img4 변경됨 (주소공유)\n",
    "img5 = img3[200:400,200:400].copy() # 새로운 복사본 생성\n",
    "\n",
    "cv2.circle(img3,(250,250),20,(0,0,255),2) # img4의 수정이 img3에도 영향을 준다\n",
    "cv2.imshow('img3',img3)\n",
    "cv2.imshow('img3_share',img4)\n",
    "cv2.imshow('img3_copy',img5)\n",
    "cv2.waitKey()"
   ]
  },
  {
   "cell_type": "markdown",
   "id": "d3ef8424",
   "metadata": {},
   "source": [
    "## Mask 연산 , ROI\n",
    "### ```ROI```\n",
    " - Region of Interest\n",
    "\n",
    "### ```Mask 연산```\n",
    " - cv2.copyTo(), cv2.calcHist(), cv2.bitwise_or(), cv2.matchTemplate(), etc...\n",
    " - mask영상은 cv_8UC1타입의 grayscale\n",
    " - mask영상이 픽셀값이 0이 아닌 위치에서 연산 수행됨\n",
    " \n",
    "#### Mask , ROI를 하얗게 나머지를 까맣게"
   ]
  },
  {
   "cell_type": "markdown",
   "id": "b2377815",
   "metadata": {},
   "source": [
    "#### 픽셀 값 복사 함수 \n",
    " - (마스크 영상을 사용해서) 영상의 일부분만 복사할 수 있는 함수\n",
    " \n",
    "**```cv2.copyTo(src,mask,dst=None) -> dst```**\n",
    " - src :입력영상\n",
    " - mask : 마스크 영상. cv2.CV_8U(numpy.uint8) # grayScale\n",
    " - dst : 출력 영상. 인자의 dst와 출력의 dst가 있는데 입력->출력 이어지려면 동시에 줘야함\n"
   ]
  },
  {
   "cell_type": "code",
   "execution_count": 6,
   "id": "95796cf1",
   "metadata": {},
   "outputs": [],
   "source": [
    "src = cv2.imread(r\"C:\\Users\\User\\Desktop\\openCV_FastC\\lecture\\ch02\\airplane.bmp\",cv2.IMREAD_COLOR)\n",
    "mask = cv2.imread(r\"C:\\Users\\User\\Desktop\\openCV_FastC\\lecture\\ch02\\mask_plane.bmp\",cv2.IMREAD_GRAYSCALE)\n",
    "dst = cv2.imread(r\"C:\\Users\\User\\Desktop\\openCV_FastC\\lecture\\ch02\\field.bmp\",cv2.IMREAD_COLOR)\n",
    "\n",
    "# case1 copyto를 쓰는 방법\n",
    "# cv2.copyTo(src,mask,dst)\n",
    "# cas2 boolen 을 이용하는 방법 \n",
    "dst[mask>0] = src[mask>0]\n",
    "\n",
    "cv2.imshow(\"src\",src)\n",
    "cv2.imshow(\"mask\",mask)\n",
    "cv2.imshow(\"dst\",dst)\n",
    "cv2.waitKey()\n",
    "\n",
    "cv2.destroyAllWindows()"
   ]
  },
  {
   "cell_type": "code",
   "execution_count": 5,
   "id": "e3bb7c15",
   "metadata": {},
   "outputs": [],
   "source": [
    "src= cv2.imread('.\\\\ch02\\\\opencv-logo-white.png', cv2.IMREAD_UNCHANGED)\n",
    "mask = src[:,:,-1] # src중 투명한 알파채널을 가져온다\n",
    "src = src[:,:,0:3] # src중 알파채널을 제외한 BGR 채널 가져온다\n",
    "dst = cv2.imread('.\\\\ch02\\\\airplane.bmp',cv2.IMREAD_COLOR) # 합성할 배경 destination\n",
    "\n",
    "h,w = src.shape[:2]\n",
    "offset = 100\n",
    "'''src와 dst의 size가 맞지 않으므로 crop해서 붙여넣어준다\n",
    "그리고 crop 은 dst의 참조복사되었으므로 dst에도 최종 반영된다(영상부분추출 참고)'''\n",
    "crop = dst[offset:h+offset,offset:w+offset]\n",
    "cv2.copyTo(src,mask,crop)\n",
    "''' 참고로 아래의 crop은 masking된 그 자체 연산 결과를 받는다\n",
    "그러므로 masking된 이미지를 붙이기 위해서는 3번째 인자 dst를 꼭 넣어야함'''\n",
    "crop = cv2.copyTo(src,mask) \n",
    "\n",
    "cv2.imshow('src',src)\n",
    "cv2.imshow('mask',mask)\n",
    "cv2.imshow('dst',dst)\n",
    "cv2.imshow('crop',crop)\n",
    "\n",
    "if cv2.waitKey(10000) == -1:\n",
    "    cv2.destroyAllWindows()"
   ]
  },
  {
   "cell_type": "markdown",
   "id": "4920c47a",
   "metadata": {},
   "source": [
    "### OpenCV 그리기 함수\n",
    " - 선그리기/도형그리기/문자열출력\n",
    " - 원본을 보존하기 위해서는 복사본 필수 \n",
    " - 그리기 함수는 BGR2RGB로 변환 필요\n"
   ]
  },
  {
   "cell_type": "markdown",
   "id": "a012d535",
   "metadata": {},
   "source": [
    "**```cv2.line(img,pt1,pt2,color,thikness=None,lineType=None,shift=None) -> img```**\n",
    " - img : 그리고자 하는 영상\n",
    " - pt1,pt2 : 직선의 시작과 끝점\n",
    " - color: 선색 (B,G,R) 튜플 , 선밝기 정수\n",
    " - thikness : 선 두께\n",
    " - lineType : cv2.LINE_4, cv2.LINE_8,cv2.LINE_AA , AA 는 antialiasing\n",
    " - shift : 그리기 좌표 값의 축소 비율, 기본=0\n"
   ]
  },
  {
   "cell_type": "code",
   "execution_count": 7,
   "id": "5e963641",
   "metadata": {},
   "outputs": [
    {
     "data": {
      "text/plain": [
       "-1"
      ]
     },
     "execution_count": 7,
     "metadata": {},
     "output_type": "execute_result"
    }
   ],
   "source": [
    "import numpy as np\n",
    "img = np.full((400,400,3),255,np.uint8)\n",
    "cv2.line(img, (50,50),(200,50),(0,0,255),5)\n",
    "cv2.line(img, (50,50),(150,160),(0,0,128))\n",
    "\n",
    "cv2.imshow('img',img)\n",
    "cv2.waitKey()"
   ]
  },
  {
   "cell_type": "markdown",
   "id": "e9c63435",
   "metadata": {},
   "source": [
    "**```cv2.rectangle(img,pt1,pt2,color,thikness=None,lineType=None,shift=None) -> img```**\n",
    "**```cv2.rectangle(img,rec,color,thikness=None,lineType=None,shift=None) -> img```**\n",
    " - img : 그리고자 하는 영상\n",
    " - pt1,pt2 : 직선의 시작과 끝점 .\n",
    " - rec : pt1,pt2 대신 (x,y,w,h) 튜플로 전달\n",
    " - color: 선색 (B,G,R) 튜플 , 선밝기 정수\n",
    " - thikness : 선 두께 , -1로 주면 내부를 채운다\n",
    " - lineType : cv2.LINE_4, cv2.LINE_8,cv2.LINE_AA , AA 는 antialiasing"
   ]
  },
  {
   "cell_type": "code",
   "execution_count": 8,
   "id": "d38d71e4",
   "metadata": {},
   "outputs": [
    {
     "data": {
      "text/plain": [
       "-1"
      ]
     },
     "execution_count": 8,
     "metadata": {},
     "output_type": "execute_result"
    }
   ],
   "source": [
    "cv2.rectangle(img,(50,200,150,100), (0,255,0) ,2)\n",
    "cv2.rectangle(img,(70,220),(180,280), (0,128,0) ,-1) # 내부채우기\n",
    "cv2.imshow('img',img)\n",
    "cv2.waitKey()\n"
   ]
  },
  {
   "cell_type": "markdown",
   "id": "6b2895bf",
   "metadata": {},
   "source": [
    "**```cv2.circle(img,center,radius,color,thikness=None,lineType=None,shift=None) -> img```**\n",
    " - img : 그리고자 하는 영상\n",
    " - center : 중심점 좌표\n",
    " - radius : 반지름\n",
    " - color: 선색 (B,G,R) 튜플 , 선밝기 정수\n",
    " - thikness : 선 두께 , -1로 주면 내부를 채운다\n",
    " - lineType : cv2.LINE_4, cv2.LINE_8,cv2.LINE_AA , AA 는 antialiasing"
   ]
  },
  {
   "cell_type": "code",
   "execution_count": 22,
   "id": "0643b137",
   "metadata": {},
   "outputs": [
    {
     "data": {
      "text/plain": [
       "-1"
      ]
     },
     "execution_count": 22,
     "metadata": {},
     "output_type": "execute_result"
    }
   ],
   "source": [
    "cv2.circle(img,(300,100), 30, (255,255,0) ,-1, cv2.LINE_AA)\n",
    "cv2.circle(img,(300,100), 60, (255,0,0), 3,cv2.LINE_8) \n",
    "cv2.imshow('img',img)\n",
    "cv2.waitKey()\n"
   ]
  },
  {
   "cell_type": "markdown",
   "id": "14f986ec",
   "metadata": {},
   "source": [
    "**```cv2.polylines(img,pts,isClosed,color,thikness=None,lineType=None,shift=None) -> img```**\n",
    " - img : 그리고자 하는 영상\n",
    " - pts : 다각형 외곽 점들의 좌표 배열(numpy.ndarray의 리스트) \n",
    "   - ex.) np.array([[10,10],[50,50],[10.50]]\n",
    " - isClosed : T/F , True면 폐곡선, False면 open \n",
    " - color: 선색 (B,G,R) 튜플 , 선밝기 정수\n",
    " - thikness : 선 두께 , -1로 주면 내부를 채운다\n",
    " - lineType : cv2.LINE_4, cv2.LINE_8,cv2.LINE_AA , AA 는 antialiasing"
   ]
  },
  {
   "cell_type": "markdown",
   "id": "d1f01e26",
   "metadata": {},
   "source": [
    "### 문자열 출력\n",
    "**```cv2.putText(img,text,org,fontface,fontscale, color,thikness=None,lineType=None,bottomLeftOrigin=None)-> img```**\n",
    "- img : 그리고자 하는 영상 \n",
    "- text : 출력할 문자열 \n",
    "- org : 문자열의 출력 좌측하단 좌표 \n",
    "- fontFace : 폰트 종류 , cv2.FONT_HERSHEY_ 상수 중 선택\n",
    "- fontScale : 포트 크기/확대/축소 비율 \n",
    "- ...\n",
    "- bottomLeftOrigin : True 면 영상의 좌측 하단을 원점으로 간주"
   ]
  },
  {
   "cell_type": "code",
   "execution_count": 10,
   "id": "a300259b",
   "metadata": {},
   "outputs": [
    {
     "data": {
      "text/plain": [
       "-1"
      ]
     },
     "execution_count": 10,
     "metadata": {},
     "output_type": "execute_result"
    }
   ],
   "source": [
    "text = \"hello? opencv\" + cv2.__version__\n",
    "cv2.putText(img,text,(50,350),cv2.FONT_HERSHEY_SIMPLEX, 0.8,(0,0,244), 1, cv2.LINE_AA)\n",
    "cv2.imshow('img',img)\n",
    "cv2.waitKey()"
   ]
  },
  {
   "cell_type": "markdown",
   "id": "a6ea3221",
   "metadata": {},
   "source": [
    "## 카메라 & 동영상처리하기\n",
    "**```cv2.VideoCapture```**\n",
    "1. open() 해서\n",
    "2. read() 한다"
   ]
  },
  {
   "cell_type": "markdown",
   "id": "1836607c",
   "metadata": {},
   "source": [
    "**```cv2.VideoCapture(filename,apiPreference=None) -> retval```**\n",
    " - index : cameraID + domain_offset_id (장치관리자 확인)\n",
    " - apiPreference : 선호하는 카메라 처리방법 지정\n",
    " - retval : object \n",
    "\n",
    "**``` cv2.VideoCapture.open(index,apiPreference=None) -> retval```**\n",
    " - retval : True / False\n",
    "\n",
    "**``` cv2.VideoCapture.isOpended() -> retval```**\n",
    " - retval : True / False\n",
    "\n",
    "**``` cv2.VideoCapture.read(image=None) -> retval, image```**\n",
    " - retval : True/ False\n",
    " - image : 현재 프레임 numpy.ndarray\n",
    " \n",
    " **``` cv2.VideoCapture.get(propId) -> retval```**\n",
    " - propId : 속성상수\n",
    " - retval : 속성값, 실패시 0 \n",
    " | OpenCV       | 설명   |   |   |   |\n",
    "|----------------------------------------------|---|---|---|---|\n",
    "| CAP_PROP_FRAME_WIDTH     | 프레임가로크기   |   |   |   |\n",
    "| CAP_PROP_FRAME_HEIGHT      | 프레임세로크기   | |   |   |\n",
    "| CAP_PROP_FPS  | 초당 프레임수   |   |   |   |\n",
    "| CAP_PROP_FRAME_COUNT   | 비디오파일 총 프레임 수   |   |   |   |\n",
    "| CAP_PROP_POS_MSEC   |  밀리초 단위의 현재 위치  |   |   |   |\n",
    "| CAP_PROP_POS_FRAMES    | 현재 프레임 번호   ||   |   |\n",
    "| CAP_PROP_EXPOSURE    |  노출  |   |   |   |"
   ]
  },
  {
   "cell_type": "code",
   "execution_count": 17,
   "id": "49242686",
   "metadata": {},
   "outputs": [],
   "source": [
    "import sys, cv2, time"
   ]
  },
  {
   "cell_type": "code",
   "execution_count": 22,
   "id": "c7f0c3c4",
   "metadata": {},
   "outputs": [
    {
     "name": "stdout",
     "output_type": "stream",
     "text": [
      "640 480\n"
     ]
    }
   ],
   "source": [
    "# 카메라를 열어서 프레임 받아보기 \n",
    "cap = cv2.VideoCapture()\n",
    "cap.open(0)\n",
    "# cap = cv2.VideoCapture(0)\n",
    "\n",
    "w = cap.get(cv2.CAP_PROP_FRAME_WIDTH)\n",
    "h = cap.get(cv2.CAP_PROP_FRAME_HEIGHT)\n",
    "\n",
    "print(int(w),int(h))\n",
    "\n",
    "if not cap.isOpened():\n",
    "    print(\"카메라 open Failed\")\n",
    "while True:\n",
    "    ret, frame = cap.read() \n",
    "    if not ret:\n",
    "        print(\"frame Failed\")\n",
    "        break\n",
    "    cv2.imshow('frame',frame)\n",
    "    if cv2.waitKey(20) ==27:\n",
    "        break\n",
    "\n",
    "cap.release()\n",
    "cv2.destroyAllWindows()\n",
    "    "
   ]
  },
  {
   "cell_type": "code",
   "execution_count": 25,
   "id": "d3c87e4f",
   "metadata": {},
   "outputs": [
    {
     "name": "stdout",
     "output_type": "stream",
     "text": [
      "640 480\n"
     ]
    }
   ],
   "source": [
    "# 카메라를 열어서 프레임 받아보기 \n",
    "cap = cv2.VideoCapture()\n",
    "cap.open(0)\n",
    "# cap = cv2.VideoCapture(0)\n",
    "\n",
    "w = cap.get(cv2.CAP_PROP_FRAME_WIDTH)\n",
    "h = cap.get(cv2.CAP_PROP_FRAME_HEIGHT)\n",
    "\n",
    "print(int(w),int(h))\n",
    "\n",
    "if not cap.isOpened():\n",
    "    print(\"카메라 open Failed\")\n",
    "while True:\n",
    "    ret, frame = cap.read() \n",
    "    if not ret:\n",
    "        print(\"frame Failed\")\n",
    "        break\n",
    "    edge = cv2.Canny(frame,50,150)\n",
    "    cv2.imshow('frame',frame)\n",
    "    cv2.imshow('edge',edge)\n",
    "\n",
    "    if cv2.waitKey(20) ==27:\n",
    "        break\n",
    "\n",
    "cap.release()\n",
    "cv2.destroyAllWindows()\n",
    "    "
   ]
  },
  {
   "cell_type": "code",
   "execution_count": 27,
   "id": "bf26d3a9",
   "metadata": {},
   "outputs": [
    {
     "name": "stdout",
     "output_type": "stream",
     "text": [
      "1280 720\n",
      "frame Failed\n"
     ]
    }
   ],
   "source": [
    "# 카메라를 열어서 프레임 받아보기 \n",
    "cap = cv2.VideoCapture(\".\\\\ch02\\\\video1.mp4\")\n",
    "# cap = cv2.VideoCapture(0)\n",
    "\n",
    "w = cap.get(cv2.CAP_PROP_FRAME_WIDTH)\n",
    "h = cap.get(cv2.CAP_PROP_FRAME_HEIGHT)\n",
    "\n",
    "print(int(w),int(h))\n",
    "\n",
    "if not cap.isOpened():\n",
    "    print(\"카메라 open Failed\")\n",
    "while True:\n",
    "    ret, frame = cap.read() \n",
    "    if not ret:\n",
    "        print(\"frame Failed\")\n",
    "        break\n",
    "    edge = cv2.Canny(frame,50,150)\n",
    "    cv2.imshow('frame',frame)\n",
    "    cv2.imshow('edge',edge)\n",
    "\n",
    "    if cv2.waitKey(20) ==27:\n",
    "        break\n",
    "\n",
    "cap.release()\n",
    "cv2.destroyAllWindows()"
   ]
  },
  {
   "cell_type": "markdown",
   "id": "622551c2",
   "metadata": {},
   "source": [
    "### 동영상 처리 2 \n",
    "\n",
    "**``` cv2.VideoWriter```**\n",
    "\n",
    "- Fourcc 문자코드 \n",
    "  - cv2.VideoWriter_fourcc(*'DIVX')\n",
    "  - cv2.VideoWriter_fourcc(*'XVID')\n",
    "  - cv2.VideoWriter_fourcc(*'FMP4')\n",
    "  - cv2.VideoWriter_fourcc(*'x264')\n",
    "  - cv2.VideoWriter_fourcc(*'MJPG')\n",
    "  \n",
    "**``` cv2.VideoWriter(filename,fourcc,fps,framesize,isColor=None) -> retval```**\n",
    "  - filename :비디오파일이름\n",
    "  - fourcc \n",
    "  - fps : 초당 프레임 수 \n",
    "  - framesize : 프레임 크기\n",
    "  - retval : object\n",
    "**``` cv2.VideoWriter.open(filename,fourcc,fps,framesize,isColor=None)-> retval```**\n",
    "  - filename :비디오파일이름\n",
    "  - fourcc \n",
    "  - fps : 초당 프레임 수 \n",
    "  - framesize : 프레임 크기\n",
    "\n",
    "**``` cv2.VideoWriter.isOpened() ->retval```**\n",
    "  - retval : True/False\n"
   ]
  },
  {
   "cell_type": "code",
   "execution_count": 30,
   "id": "cb54e219",
   "metadata": {},
   "outputs": [],
   "source": [
    "import sys , cv2\n",
    "\n",
    "cap = cv2.VideoCapture(0)\n",
    "if not cap.isOpened():\n",
    "    print(\"camera open failed\")\n",
    "    sys.exit()\n",
    "\n",
    "w = round(cap.get(cv2.CAP_PROP_FRAME_WIDTH))\n",
    "h = round(cap.get(cv2.CAP_PROP_FRAME_HEIGHT))\n",
    "fps = 30\n",
    "\n",
    "fourcc = cv2.VideoWriter_fourcc(*'DIVX')\n",
    "delay = round(1000/fps)\n",
    "\n",
    "out = cv2.VideoWriter(\"out.avi\",fourcc,fps,(w,h))\n",
    "if not out.isOpened():\n",
    "    print(\"File oepn fail\")\n",
    "    cap.release()\n",
    "    sys.exit()\n",
    "while True:\n",
    "    ret,frame = cap.read()\n",
    "    if not ret:\n",
    "        break\n",
    "    out.write(frame)\n",
    "    cv2.imshow(\"frame\",frame)\n",
    "#     inversed = ~frame\n",
    "#     out.write(inversed)\n",
    "    if cv2.waitKey(delay) ==27:\n",
    "        break\n",
    "cv2.destroyAllWindows()\n",
    "cap.release()\n",
    "\n"
   ]
  },
  {
   "cell_type": "code",
   "execution_count": 1,
   "id": "0421a647",
   "metadata": {},
   "outputs": [],
   "source": [
    "import sys , cv2\n",
    "\n",
    "cap = cv2.VideoCapture(0)\n",
    "if not cap.isOpened():\n",
    "    print(\"camera open failed\")\n",
    "    sys.exit()\n",
    "\n",
    "w = round(cap.get(cv2.CAP_PROP_FRAME_WIDTH))\n",
    "h = round(cap.get(cv2.CAP_PROP_FRAME_HEIGHT))\n",
    "fps = 30\n",
    "\n",
    "fourcc = cv2.VideoWriter_fourcc(*'DIVX')\n",
    "delay = round(1000/fps)\n",
    "\n",
    "out = cv2.VideoWriter(\"out.avi\",fourcc,fps,(w,h))\n",
    "if not out.isOpened():\n",
    "    print(\"File oepn fail\")\n",
    "    cap.release()\n",
    "    sys.exit()\n",
    "while True:\n",
    "    ret,frame = cap.read()\n",
    "    if not ret:\n",
    "        break\n",
    "        \n",
    "    edge = cv2.Canny(frame,50,150)\n",
    "    edge_color = cv2.cvtColor(edge,cv2.COLOR_GRAY2BGR) # gray를 그대로 저장하면 실패 !! GRAY2BGR 필수\n",
    "    out.write(edge_color)\n",
    "    cv2.imshow(\"edge\",edge_color)\n",
    "    if cv2.waitKey(delay) ==27:\n",
    "        break\n",
    "cv2.destroyAllWindows()\n",
    "cap.release()\n"
   ]
  },
  {
   "cell_type": "markdown",
   "id": "7c02e4b4",
   "metadata": {},
   "source": [
    "### 키보드 이벤트 \n",
    "**특수키** \n",
    " - cv2.waitKeyEx()"
   ]
  },
  {
   "cell_type": "code",
   "execution_count": 1,
   "id": "692fb6e7",
   "metadata": {},
   "outputs": [],
   "source": [
    "import sys , cv2\n",
    "img = cv2.imread(\".\\\\ch02\\\\cat.bmp\",cv2.IMREAD_GRAYSCALE)\n",
    "if img is None:\n",
    "    print(\"img load fail\")\n",
    "    sys.exit()\n",
    "\n",
    "cv2.imshow(\"image\",img)\n",
    "\n",
    "while True:\n",
    "    if cv2.waitKey()==27:\n",
    "        break\n",
    "    elif cv2.waitKey() ==ord('i'):\n",
    "        img = ~img\n",
    "        cv2.imshow('image',img)\n",
    "cv2.destroyAllWindows()"
   ]
  },
  {
   "cell_type": "code",
   "execution_count": 2,
   "id": "9aef560a",
   "metadata": {},
   "outputs": [],
   "source": [
    "# i 버튼을 두번 눌러야 반전이 되는 버그를 개선한 코드 (아주 간단하다)\n",
    "import sys , cv2\n",
    "img = cv2.imread(\".\\\\ch02\\\\cat.bmp\",cv2.IMREAD_GRAYSCALE)\n",
    "if img is None:\n",
    "    print(\"img load fail\")\n",
    "    sys.exit()\n",
    "\n",
    "cv2.imshow(\"image\",img)\n",
    "\n",
    "while True:\n",
    "    key = cv2.waitKey()\n",
    "    if key==27:\n",
    "        break\n",
    "    elif key ==ord('i'):\n",
    "        img = ~img\n",
    "        cv2.imshow('image',img)\n",
    "cv2.destroyAllWindows()"
   ]
  },
  {
   "cell_type": "markdown",
   "id": "6b2cd355",
   "metadata": {},
   "source": [
    "### 마우스 이벤트 콜백함수 '등록' 함수\n",
    " - 콜백함수 -> 이벤트를 나에게 다시 돌려줘! 내가 처리하고 싶어! \n",
    " \n",
    "**``` cv2.setMouseCallback(windowName,onMouse,param = None) -> retval```**\n",
    "  - windowNAme : 이벤트를 읽을 창 이름\n",
    "  - 콜백함수 이름 : 아무이름 상관 없다 보통 onMouse 쓴다 \n",
    "    - 대신 콜백 함수는 다음 형식을 따라야함 \n",
    "    - **```onMouse(event,x,y,flags,param) -> None```**\n",
    "  - param : 콜백 함수에 전달할 데이터 \n",
    "  \n",
    "**```onMouse(event,x,y,flags,param) -> None```**\n",
    "  - event : 이벤트 종류 , cv2.EVENT_로 시작\n",
    "    - cv2.EVENT_LBUTTONDBLCLK\n",
    "    - cv2.EVENT_LBUTTONDOWN\n",
    "    - cv2.EVENT_LBUTTONUP\n",
    "    - cv2.EVENT_MBUTTONDBLCLK\n",
    "    - cv2.EVENT_MBUTTONDOWN\n",
    "    - cv2.EVENT_MBUTTONUP\n",
    "    - cv2.EVENT_MOUSEHWHEEL\n",
    "    - cv2.EVENT_MOUSEMOVE\n",
    "    - cv2.EVENT_RBUTTONDBLCLK\n",
    "    - cv2.EVENT_RBUTTONDOWN\n",
    "    - cv2.EVENT_RBUTTONUP\n",
    "  - x,y : 창에서의 발생좌표 \n",
    "  - flags : 마우스 이벤트 발생 상태, cv2.EVENT_FLAG_로 시작\n",
    "    - cv2.EVENT_FLAG_LBUTTON\n",
    "    - cv2.EVENT_FLAG_RBUTTON\n",
    "    - cv2.EVENT_FLAG_MBUTTON\n",
    "    - cv2.EVENT_FLAG_ALTKEY\n",
    "    - cv2.EVENT_FLAG_CTRLKEY\n",
    "    - cv2.EVENT_FLAG_SHIFTKEY\n",
    "  - param : 등록함수에서 설정한 params"
   ]
  },
  {
   "cell_type": "code",
   "execution_count": 6,
   "id": "be71f7ea",
   "metadata": {
    "scrolled": true
   },
   "outputs": [
    {
     "name": "stdout",
     "output_type": "stream",
     "text": [
      "event lbuttondown : 171,186\n",
      "event move : 170,186\n",
      "event move : 170,188\n",
      "event move : 171,191\n",
      "event move : 173,194\n",
      "event move : 175,197\n",
      "event move : 176,200\n",
      "event move : 181,206\n",
      "event move : 184,211\n",
      "event move : 188,215\n",
      "event move : 191,219\n",
      "event move : 193,224\n",
      "event move : 197,226\n",
      "event move : 198,228\n",
      "event move : 200,230\n",
      "event move : 201,230\n",
      "event move : 201,231\n",
      "event move : 202,231\n",
      "event move : 204,231\n",
      "event move : 205,231\n",
      "event move : 212,230\n",
      "event move : 216,227\n",
      "event move : 221,225\n",
      "event move : 228,220\n",
      "event move : 234,215\n",
      "event move : 240,210\n",
      "event move : 244,207\n",
      "event move : 249,201\n",
      "event move : 255,194\n",
      "event move : 261,186\n",
      "event move : 264,179\n",
      "event move : 267,173\n",
      "event move : 269,167\n",
      "event move : 269,164\n",
      "event move : 269,163\n",
      "event move : 269,161\n",
      "event move : 270,162\n",
      "event move : 272,170\n",
      "event move : 274,174\n",
      "event move : 276,180\n",
      "event move : 279,186\n",
      "event move : 282,189\n",
      "event move : 286,192\n",
      "event move : 289,193\n",
      "event move : 293,194\n",
      "event move : 297,194\n",
      "event move : 304,194\n",
      "event move : 315,193\n",
      "event move : 322,191\n",
      "event move : 329,188\n",
      "event move : 335,185\n",
      "event move : 343,179\n",
      "event move : 350,174\n",
      "event move : 356,169\n",
      "event move : 362,165\n",
      "event move : 365,163\n",
      "event move : 366,162\n",
      "event move : 368,162\n",
      "event move : 368,163\n",
      "event move : 370,165\n",
      "event move : 372,167\n",
      "event move : 375,169\n",
      "event move : 377,171\n",
      "event move : 382,173\n",
      "event move : 389,175\n",
      "event move : 394,176\n",
      "event move : 400,177\n",
      "event move : 412,177\n",
      "event move : 417,177\n",
      "event move : 423,177\n",
      "event move : 431,176\n",
      "event move : 436,173\n",
      "event move : 440,172\n",
      "event move : 446,168\n",
      "event move : 449,165\n",
      "event move : 451,163\n",
      "event move : 452,162\n",
      "event move : 453,160\n",
      "event move : 454,157\n",
      "event move : 454,155\n",
      "event move : 455,152\n",
      "event move : 455,151\n",
      "event move : 455,149\n",
      "event move : 455,148\n",
      "event move : 455,147\n",
      "event lbuttonup : 455,147\n",
      "event lbuttondown : 166,294\n",
      "event move : 167,294\n",
      "event move : 172,292\n",
      "event move : 180,290\n",
      "event move : 190,287\n",
      "event move : 216,278\n",
      "event move : 237,272\n",
      "event move : 251,268\n",
      "event move : 281,261\n",
      "event move : 332,249\n",
      "event move : 372,240\n",
      "event move : 419,233\n",
      "event move : 456,227\n",
      "event move : 482,223\n",
      "event move : 517,218\n",
      "event move : 543,213\n",
      "event move : 552,211\n",
      "event move : 563,210\n",
      "event move : 575,208\n",
      "event move : 581,207\n",
      "event move : 583,206\n",
      "event move : 584,206\n",
      "event lbuttonup : 584,206\n"
     ]
    },
    {
     "data": {
      "text/plain": [
       "-1"
      ]
     },
     "execution_count": 6,
     "metadata": {},
     "output_type": "execute_result"
    }
   ],
   "source": [
    "import numpy as np \n",
    "\n",
    "def on_mouse(event,x,y,flags,param):\n",
    "    ''' EVENT는 == 연산자를 , FLAG 는 & 연산자를 이용해야 한다!! '''\n",
    "    global img \n",
    "    if event == cv2.EVENT_LBUTTONDOWN:\n",
    "        print(f\"event lbuttondown : {x},{y}\")\n",
    "    elif event == cv2.EVENT_LBUTTONUP:\n",
    "        print(f\"event lbuttonup : {x},{y}\")\n",
    "    elif event == cv2.EVENT_MOUSEMOVE:\n",
    "        if flags & cv2.EVENT_FLAG_LBUTTON:\n",
    "            print(f\"event move : {x},{y}\")\n",
    "            cv2.circle(img,(x,y),5,(0,0,255),-1)\n",
    "            cv2.imshow(\"image\",img)\n",
    "\n",
    "        \n",
    "    \n",
    "    \n",
    "img = np.ones((480,640,3),dtype=np.uint8)*255\n",
    "cv2.imshow('image',img)\n",
    "cv2.setMouseCallback('image',on_mouse) # 위치 중요함, 'image' 앞에서 callback 하면 error\n",
    "cv2.waitKey()\n"
   ]
  },
  {
   "cell_type": "code",
   "execution_count": 9,
   "id": "1b2b62cf",
   "metadata": {},
   "outputs": [
    {
     "name": "stdout",
     "output_type": "stream",
     "text": [
      "event lbuttondown : 124,104\n",
      "event move : 123,104\n",
      "event move : 120,108\n",
      "event move : 115,114\n",
      "event move : 111,117\n",
      "event move : 103,127\n",
      "event move : 98,132\n",
      "event move : 92,141\n",
      "event move : 87,150\n",
      "event move : 80,161\n",
      "event move : 73,172\n",
      "event move : 69,182\n",
      "event move : 67,190\n",
      "event move : 66,194\n",
      "event move : 66,201\n",
      "event move : 67,206\n",
      "event move : 69,209\n",
      "event move : 73,213\n",
      "event move : 79,215\n",
      "event move : 84,215\n",
      "event move : 89,215\n",
      "event move : 96,215\n",
      "event move : 103,213\n",
      "event move : 113,207\n",
      "event move : 124,199\n",
      "event move : 136,189\n",
      "event move : 145,179\n",
      "event move : 149,173\n",
      "event move : 156,158\n",
      "event move : 160,146\n",
      "event move : 161,136\n",
      "event move : 161,130\n",
      "event move : 161,118\n",
      "event move : 161,110\n",
      "event move : 160,105\n",
      "event move : 158,97\n",
      "event move : 155,91\n",
      "event move : 153,85\n",
      "event move : 152,84\n",
      "event move : 150,82\n",
      "event move : 149,80\n",
      "event move : 145,79\n",
      "event move : 142,78\n",
      "event move : 140,77\n",
      "event move : 137,76\n",
      "event move : 136,76\n",
      "event lbuttonup : 136,76\n",
      "event lbuttondown : 211,91\n",
      "event move : 213,98\n",
      "event move : 214,104\n",
      "event move : 216,116\n",
      "event move : 216,131\n",
      "event move : 216,144\n",
      "event move : 216,164\n",
      "event move : 216,181\n",
      "event move : 216,193\n",
      "event move : 216,221\n",
      "event move : 216,240\n",
      "event move : 216,256\n",
      "event move : 216,273\n",
      "event move : 216,283\n",
      "event move : 216,294\n",
      "event move : 216,305\n",
      "event move : 216,311\n",
      "event move : 216,314\n",
      "event move : 216,315\n",
      "event move : 216,308\n",
      "event move : 215,300\n",
      "event move : 214,291\n",
      "event move : 213,281\n",
      "event lbuttonup : 213,281\n",
      "event lbuttondown : 227,103\n",
      "event move : 233,102\n",
      "event move : 242,102\n",
      "event move : 250,103\n",
      "event move : 256,105\n",
      "event move : 262,108\n",
      "event move : 264,110\n",
      "event move : 268,113\n",
      "event move : 269,115\n",
      "event move : 270,117\n",
      "event move : 270,120\n",
      "event move : 270,122\n",
      "event move : 270,125\n",
      "event move : 265,130\n",
      "event move : 257,136\n",
      "event move : 251,139\n",
      "event move : 240,145\n",
      "event move : 231,148\n",
      "event move : 223,151\n",
      "event move : 217,153\n",
      "event move : 211,154\n",
      "event move : 206,155\n",
      "event move : 199,156\n",
      "event move : 194,156\n",
      "event move : 187,156\n",
      "event move : 185,156\n",
      "event move : 183,156\n",
      "event lbuttonup : 183,156\n",
      "event lbuttondown : 318,156\n",
      "event move : 323,158\n",
      "event move : 329,159\n",
      "event move : 331,159\n",
      "event move : 334,159\n",
      "event move : 337,159\n",
      "event move : 341,159\n",
      "event move : 347,159\n",
      "event move : 351,159\n",
      "event move : 355,158\n",
      "event move : 359,156\n",
      "event move : 361,154\n",
      "event move : 364,150\n",
      "event move : 365,148\n",
      "event move : 367,145\n",
      "event move : 369,140\n",
      "event move : 370,134\n",
      "event move : 370,130\n",
      "event move : 370,124\n",
      "event move : 370,118\n",
      "event move : 370,113\n",
      "event move : 370,110\n",
      "event move : 369,104\n",
      "event move : 366,101\n",
      "event move : 360,97\n",
      "event move : 356,95\n",
      "event move : 346,94\n",
      "event move : 336,94\n",
      "event move : 330,95\n",
      "event move : 320,100\n",
      "event move : 312,108\n",
      "event move : 305,118\n",
      "event move : 300,125\n",
      "event move : 296,136\n",
      "event move : 293,150\n",
      "event move : 293,162\n",
      "event move : 293,170\n",
      "event move : 296,176\n",
      "event move : 297,180\n",
      "event move : 302,185\n",
      "event move : 311,190\n",
      "event move : 321,193\n",
      "event move : 331,195\n",
      "event move : 338,195\n",
      "event move : 349,195\n",
      "event move : 365,190\n",
      "event move : 373,187\n",
      "event move : 386,180\n",
      "event move : 394,174\n",
      "event move : 403,168\n",
      "event move : 412,160\n",
      "event move : 419,154\n",
      "event move : 426,146\n",
      "event lbuttonup : 426,146\n",
      "event lbuttondown : 443,91\n",
      "event move : 443,95\n",
      "event move : 444,103\n",
      "event move : 444,115\n",
      "event move : 444,123\n",
      "event move : 444,131\n",
      "event move : 443,139\n",
      "event move : 442,144\n",
      "event move : 441,148\n",
      "event move : 440,153\n",
      "event move : 440,154\n",
      "event move : 440,151\n",
      "event move : 440,148\n",
      "event move : 440,139\n",
      "event move : 442,131\n",
      "event move : 446,123\n",
      "event move : 450,116\n",
      "event move : 458,108\n",
      "event move : 464,103\n",
      "event move : 467,101\n",
      "event move : 470,100\n",
      "event move : 471,100\n",
      "event move : 472,100\n",
      "event move : 473,100\n",
      "event move : 476,107\n",
      "event move : 478,113\n",
      "event move : 480,121\n",
      "event move : 482,127\n",
      "event move : 483,131\n",
      "event move : 486,140\n",
      "event move : 488,145\n",
      "event move : 489,150\n",
      "event move : 490,152\n",
      "event move : 490,154\n",
      "event move : 490,156\n",
      "event move : 490,158\n",
      "event move : 490,161\n",
      "event move : 490,162\n",
      "event move : 488,163\n",
      "event lbuttonup : 488,163\n",
      "event lbuttondown : 395,210\n",
      "event move : 393,210\n",
      "event move : 390,213\n",
      "event move : 384,216\n",
      "event move : 379,219\n",
      "event move : 372,226\n",
      "event move : 364,233\n",
      "event move : 359,238\n",
      "event move : 349,249\n",
      "event move : 342,258\n",
      "event move : 338,267\n",
      "event move : 334,275\n",
      "event move : 332,282\n",
      "event move : 330,290\n",
      "event move : 330,297\n",
      "event move : 330,302\n",
      "event move : 330,307\n",
      "event move : 330,311\n",
      "event move : 332,313\n",
      "event move : 334,316\n",
      "event move : 336,317\n",
      "event move : 339,318\n",
      "event move : 341,319\n",
      "event move : 344,319\n",
      "event move : 348,319\n",
      "event move : 349,317\n",
      "event move : 354,313\n",
      "event move : 357,309\n",
      "event move : 361,306\n",
      "event move : 364,301\n",
      "event move : 369,295\n",
      "event move : 374,290\n",
      "event lbuttonup : 374,290\n",
      "event lbuttondown : 434,196\n",
      "event move : 436,200\n",
      "event move : 438,206\n",
      "event move : 444,220\n",
      "event move : 450,235\n",
      "event move : 453,243\n",
      "event move : 458,250\n",
      "event move : 461,257\n",
      "event move : 466,266\n",
      "event move : 467,267\n",
      "event move : 470,270\n",
      "event move : 471,271\n",
      "event move : 471,272\n",
      "event move : 472,272\n",
      "event move : 473,270\n",
      "event move : 475,267\n",
      "event move : 478,261\n",
      "event move : 483,250\n",
      "event move : 486,244\n",
      "event move : 492,233\n",
      "event move : 499,220\n",
      "event move : 504,211\n",
      "event move : 506,209\n",
      "event move : 510,203\n",
      "event move : 511,202\n",
      "event move : 511,199\n",
      "event move : 512,199\n",
      "event move : 512,198\n",
      "event lbuttonup : 512,198\n"
     ]
    },
    {
     "data": {
      "text/plain": [
       "-1"
      ]
     },
     "execution_count": 9,
     "metadata": {},
     "output_type": "execute_result"
    }
   ],
   "source": [
    "\"\"\" 그리기 실행할 때 끊어지지 않게 처리하는 방법\"\"\"\n",
    "import numpy as np \n",
    "\n",
    "oldx = oldy = -1 \n",
    "\n",
    "def on_mouse(event,x,y,flags,param):\n",
    "    ''' EVENT는 == 연산자를 , FLAG 는 & 연산자를 이용해야 한다!! '''\n",
    "    global img ,oldx,oldy\n",
    "    if event == cv2.EVENT_LBUTTONDOWN:\n",
    "        oldx,oldy = x,y\n",
    "        \n",
    "        print(f\"event lbuttondown : {x},{y}\")\n",
    "    elif event == cv2.EVENT_LBUTTONUP:\n",
    "        print(f\"event lbuttonup : {x},{y}\")\n",
    "    elif event == cv2.EVENT_MOUSEMOVE:\n",
    "        if flags & cv2.EVENT_FLAG_LBUTTON:\n",
    "            print(f\"event move : {x},{y}\")\n",
    "#             cv2.circle(img,(x,y),5,(0,0,255),-1)\n",
    "            cv2.line(img,(oldx,oldy),(x,y),(0,255,0),5, cv2.LINE_AA)\n",
    "            cv2.imshow(\"image\",img)\n",
    "            oldx, oldy = x,y\n",
    "\n",
    "        \n",
    "    \n",
    "    \n",
    "img = np.ones((480,640,3),dtype=np.uint8)*255\n",
    "cv2.imshow('image',img)\n",
    "cv2.setMouseCallback('image',on_mouse) # 위치 중요함, 'image' 앞에서 callback 하면 error\n",
    "cv2.waitKey()\n"
   ]
  },
  {
   "cell_type": "markdown",
   "id": "63ff4f2c",
   "metadata": {},
   "source": [
    "### 트랙바 사용하기 \n",
    "**```cv2.createTrackbar(trackbarName,windowName,value,count,onChange) -> None```**\n",
    "- tracbarName : 트랙바 이름\n",
    "- windowNAme : 트랙바를 생성할 창 이름 \n",
    "- value : 초깃값\n",
    "- count : 최댓값 , 최솟값은 0 \n",
    "- onChange: 콜백함수 이름 \n",
    "   - **``` onChange(pos) -> None```**"
   ]
  },
  {
   "cell_type": "code",
   "execution_count": 6,
   "id": "fbc37af9",
   "metadata": {},
   "outputs": [],
   "source": [
    "import numpy as np \n",
    "import cv2\n",
    "\n",
    "def on_level_changed(pos):\n",
    "    global img\n",
    "    level = pos*16\n",
    "    if level >=255:\n",
    "        level = 255    \n",
    "    ''' 7-8 line을 np.clip으로 대체 가능\n",
    "    level = np.clip(level,0,255)'''    \n",
    "    img[:,:] = level\n",
    "    cv2.imshow('image',img)\n",
    "\n",
    "img = np.zeros((480,640),np.uint8)\n",
    "cv2.imshow(\"image\",img)\n",
    "cv2.createTrackbar('level','image',0,16,on_level_changed) # 창 생성 이후에 설정해야함\n",
    "cv2.createTrackbar('level2','image',0,32,on_level_changed)\n",
    "cv2.waitKey()\n",
    "cv2.destroyAllWindows()"
   ]
  },
  {
   "cell_type": "markdown",
   "id": "61e5699a",
   "metadata": {},
   "source": [
    "### 연산 시간 측정 방법\n",
    " - **```cv2.TickMeter() -> tm```**\n",
    "   - tm : object\n",
    "   - tm.start()/ tm.stop() / tm.reset() / tm.getTimeSec() / tm.getTimeMilli()/ tm.getTimeMicro()"
   ]
  },
  {
   "cell_type": "code",
   "execution_count": 8,
   "id": "be8e02ca",
   "metadata": {},
   "outputs": [
    {
     "name": "stdout",
     "output_type": "stream",
     "text": [
      "Elapsed time 147.7477ms\n"
     ]
    }
   ],
   "source": [
    "import sys \n",
    "import numpy as np \n",
    "import cv2\n",
    "\n",
    "img = cv2.imread('.\\\\ch02\\\\hongkong.jpg')\n",
    "if img is None:\n",
    "    print(\"load error\")\n",
    "    sys.exit()\n",
    "\n",
    "tm = cv2.TickMeter()\n",
    "tm.start()\n",
    "\n",
    "edge = cv2.Canny(img, 50,150)\n",
    "tm.stop()\n",
    "ms = tm.getTimeMilli()\n",
    "\n",
    "print(f\"Elapsed time {ms}ms\")\n",
    "# >>> Elapsed time 147.7477ms , 참고 application 마다 다르지만 초당 30frame  (약30ms)는 되야 빠르다고 한다 \n",
    "#** 어디서 병목이 생기는지 잘 따쟈봐야 한다 **"
   ]
  },
  {
   "cell_type": "markdown",
   "id": "62a9339b",
   "metadata": {},
   "source": [
    "## 실전코딩!\n",
    "### 동영상 전환 이펙트\n"
   ]
  },
  {
   "cell_type": "code",
   "execution_count": null,
   "id": "1b040828",
   "metadata": {},
   "outputs": [],
   "source": [
    "import sys \n",
    "import numpy as np \n",
    "import cv2\n",
    "\n",
    "cap1 = cv2.VideoCapture(\".\\\\ch02\\\\video1.mp4\")\n",
    "cap2 = cv2.VideoCapture(\".\\\\ch02\\\\video2.mp4\")\n",
    "\n",
    "if not cap1.isOpened() or not cap2.isOpened():\n",
    "    print(\"load error\")\n",
    "    sys.exit()\n",
    "\n",
    "frame_cnt1 = round(cap1.get(cv2.CAP_PROP_FRAME_COUNT))\n",
    "frame_cnt2 = round(cap2.get(cv2.CAP_PROP_FRAME_COUNT))\n",
    "fps = cap1.get(cv2.CAP_PROP_FPS)\n",
    "effect_frames = int(fps*2)\n",
    "\n",
    "print(\"frame_cnt1:\",frame_cnt1)\n",
    "print(\"frame_cnt2:\",frame_cnt2)\n",
    "print(\"FPS:\",fps)\n",
    "\n",
    "delay = int(1000/fps)\n",
    "\n",
    "w = round(cap1.get(cv2.CAP_PROP_FRAME_WIDTH))\n",
    "h = round(cap2.get(cv2.CAP_PROP_FRAME_HEIGHT))\n",
    "fourcc = cv2.VideoWriter_fourcc(*\"DIVX\")\n",
    "\n",
    "out = cv2.VideoWriter(\"output_.avi\",fourcc,fps,(w,h))\n",
    "\n",
    "\n",
    "for i in range(frame_cnt1-effect_frames):\n",
    "    ret1,frame1 = cap1.read()\n",
    "    \n",
    "    if not ret1:\n",
    "        break\n",
    "    \n",
    "    out.write(frame1)\n",
    "    cv2.imshow('frame',frame1)\n",
    "    cv2.waitKey(delay)\n",
    "\n",
    "for i in range(effect_frames):\n",
    "    ret1,frame1= cap1.read()\n",
    "    ret2,frame2= cap2.read()\n",
    "    \n",
    "    dx = int(w*i/effect_frames)\n",
    "    \n",
    "    frame = np.zeros((h,w,3),dtype = np.uint8)\n",
    "    frame[:,0:dx]= frame2[:,0:dx]\n",
    "    frame[:,dx:w]= frame1[:,dx:w]\n",
    "    \n",
    "    out.write(frame)\n",
    "    cv2.imshow('frame',frame)\n",
    "\n",
    "for i in range(effect_frames,frame_cnt2):\n",
    "    ret2,frame2 = cap2.read()\n",
    "    \n",
    "    if not ret2:\n",
    "        break\n",
    "    \n",
    "    out.write(frame2)\n",
    "    cv2.imshow('frame',frame2)\n",
    "    cv2.waitKey(delay)\n",
    "\n",
    "\n",
    "cap1.release()\n",
    "cap2.release()\n",
    "out.release()\n",
    "# cv2.destroyAllWindows()"
   ]
  },
  {
   "cell_type": "markdown",
   "id": "3df474d7",
   "metadata": {},
   "source": [
    "# "
   ]
  },
  {
   "cell_type": "code",
   "execution_count": 9,
   "id": "d6ca56ec",
   "metadata": {},
   "outputs": [
    {
     "name": "stdout",
     "output_type": "stream",
     "text": [
      "1657684231 1657684231.jpg <class 'str'>\n",
      "C:\\Users\\User\\Desktop\\yolo\\aionoff\\img\\1657684231.jpg\\1657684231.jpg\n"
     ]
    }
   ],
   "source": [
    "a = r'C:\\Users\\User\\Desktop\\yolo\\aionoff\\img\\1657684231.jpg'\n",
    "from pathlib import Path\n",
    "p= Path(a)\n",
    "print(p.stem, p.name , type(p.name))\n",
    "b = p/p.name\n",
    "print(b)"
   ]
  },
  {
   "cell_type": "code",
   "execution_count": 11,
   "id": "6f4b2ed7",
   "metadata": {},
   "outputs": [
    {
     "name": "stdout",
     "output_type": "stream",
     "text": [
      "Thread alive, and it won't die on program termination\n",
      "Thread alive, and it won't die on program termination\n",
      "Thread alive, and it won't die on program termination\n",
      "Thread alive, and it won't die on program termination\n",
      "Thread alive, and it won't die on program termination\n",
      "Thread alive, and it won't die on program termination\n",
      "Thread alive, and it won't die on program termination\n"
     ]
    },
    {
     "ename": "SystemExit",
     "evalue": "",
     "output_type": "error",
     "traceback": [
      "An exception has occurred, use %tb to see the full traceback.\n",
      "\u001b[1;31mSystemExit\u001b[0m\n"
     ]
    },
    {
     "name": "stdout",
     "output_type": "stream",
     "text": [
      "Thread alive, and it won't die on program termination\n",
      "Thread alive, and it won't die on program termination\n",
      "Thread alive, and it won't die on program termination\n",
      "Thread alive, and it won't die on program termination\n",
      "Thread alive, and it won't die on program termination\n",
      "Thread alive, and it won't die on program termination\n",
      "Thread alive, and it won't die on program termination\n",
      "Thread alive, and it won't die on program termination\n",
      "Thread alive, and it won't die on program termination\n",
      "Thread alive, and it won't die on program termination\n",
      "Thread alive, and it won't die on program termination\n",
      "Thread alive, and it won't die on program termination\n",
      "Thread alive, and it won't die on program termination\n",
      "Thread alive, and it won't die on program termination\n",
      "Thread alive, and it won't die on program termination\n",
      "Thread alive, and it won't die on program termination\n",
      "Thread alive, and it won't die on program termination\n",
      "Thread alive, and it won't die on program termination\n",
      "Thread alive, and it won't die on program termination\n",
      "Thread alive, and it won't die on program termination\n",
      "Thread alive, and it won't die on program termination\n",
      "Thread alive, and it won't die on program termination\n"
     ]
    }
   ],
   "source": [
    "\n",
    "import threading\n",
    "import time\n",
    "import sys\n",
    " \n",
    "def func():\n",
    "    while True:\n",
    "        time.sleep(0.5)\n",
    "        print(\"Thread alive, and it won't die on program termination\")\n",
    " \n",
    "t1 = threading.Thread(target=func)\n",
    "t1.start()\n",
    "time.sleep(2)\n",
    "sys.exit()"
   ]
  },
  {
   "cell_type": "code",
   "execution_count": 15,
   "id": "a6e4ba1c",
   "metadata": {},
   "outputs": [
    {
     "name": "stdout",
     "output_type": "stream",
     "text": [
      "Thread alive, and it won't die on program termination\n",
      "Thread alive, and it won't die on program termination\n",
      "Hello, world!\n",
      "Thread alive, but it will die on program termination\n",
      "Thread alive, and it won't die on program termination\n",
      "Thread alive, and it won't die on program termination\n",
      "Thread alive, but it will die on program termination\n",
      "Thread alive, and it won't die on program termination\n",
      "Thread alive, and it won't die on program termination\n",
      "Hello, world!\n",
      "Thread alive, but it will die on program termination\n",
      "Thread alive, and it won't die on program termination\n",
      "Thread alive, and it won't die on program termination\n",
      "Thread alive, but it will die on program termination\n",
      "Thread alive, and it won't die on program termination\n",
      "Thread alive, and it won't die on program termination\n"
     ]
    },
    {
     "ename": "TypeError",
     "evalue": "'Event' object is not callable",
     "output_type": "error",
     "traceback": [
      "\u001b[1;31m---------------------------------------------------------------------------\u001b[0m",
      "\u001b[1;31mTypeError\u001b[0m                                 Traceback (most recent call last)",
      "\u001b[1;32m~\\AppData\\Local\\Temp/ipykernel_2200/763235839.py\u001b[0m in \u001b[0;36m<module>\u001b[1;34m\u001b[0m\n\u001b[0;32m     31\u001b[0m \u001b[0mtime\u001b[0m\u001b[1;33m.\u001b[0m\u001b[0msleep\u001b[0m\u001b[1;33m(\u001b[0m\u001b[1;36m2\u001b[0m\u001b[1;33m)\u001b[0m\u001b[1;33m\u001b[0m\u001b[1;33m\u001b[0m\u001b[0m\n\u001b[0;32m     32\u001b[0m \u001b[0mt1\u001b[0m\u001b[1;33m.\u001b[0m\u001b[0mstop\u001b[0m\u001b[1;33m(\u001b[0m\u001b[1;33m)\u001b[0m\u001b[1;33m\u001b[0m\u001b[1;33m\u001b[0m\u001b[0m\n\u001b[1;32m---> 33\u001b[1;33m \u001b[0mt1\u001b[0m\u001b[1;33m.\u001b[0m\u001b[0mjoin\u001b[0m\u001b[1;33m(\u001b[0m\u001b[1;33m)\u001b[0m\u001b[1;33m\u001b[0m\u001b[1;33m\u001b[0m\u001b[0m\n\u001b[0m",
      "\u001b[1;32mc:\\users\\user\\appdata\\local\\programs\\python\\python39\\lib\\threading.py\u001b[0m in \u001b[0;36mjoin\u001b[1;34m(self, timeout)\u001b[0m\n\u001b[0;32m   1051\u001b[0m \u001b[1;33m\u001b[0m\u001b[0m\n\u001b[0;32m   1052\u001b[0m         \u001b[1;32mif\u001b[0m \u001b[0mtimeout\u001b[0m \u001b[1;32mis\u001b[0m \u001b[1;32mNone\u001b[0m\u001b[1;33m:\u001b[0m\u001b[1;33m\u001b[0m\u001b[1;33m\u001b[0m\u001b[0m\n\u001b[1;32m-> 1053\u001b[1;33m             \u001b[0mself\u001b[0m\u001b[1;33m.\u001b[0m\u001b[0m_wait_for_tstate_lock\u001b[0m\u001b[1;33m(\u001b[0m\u001b[1;33m)\u001b[0m\u001b[1;33m\u001b[0m\u001b[1;33m\u001b[0m\u001b[0m\n\u001b[0m\u001b[0;32m   1054\u001b[0m         \u001b[1;32melse\u001b[0m\u001b[1;33m:\u001b[0m\u001b[1;33m\u001b[0m\u001b[1;33m\u001b[0m\u001b[0m\n\u001b[0;32m   1055\u001b[0m             \u001b[1;31m# the behavior of a negative timeout isn't documented, but\u001b[0m\u001b[1;33m\u001b[0m\u001b[1;33m\u001b[0m\u001b[1;33m\u001b[0m\u001b[0m\n",
      "\u001b[1;32mc:\\users\\user\\appdata\\local\\programs\\python\\python39\\lib\\threading.py\u001b[0m in \u001b[0;36m_wait_for_tstate_lock\u001b[1;34m(self, block, timeout)\u001b[0m\n\u001b[0;32m   1069\u001b[0m         \u001b[1;32melif\u001b[0m \u001b[0mlock\u001b[0m\u001b[1;33m.\u001b[0m\u001b[0macquire\u001b[0m\u001b[1;33m(\u001b[0m\u001b[0mblock\u001b[0m\u001b[1;33m,\u001b[0m \u001b[0mtimeout\u001b[0m\u001b[1;33m)\u001b[0m\u001b[1;33m:\u001b[0m\u001b[1;33m\u001b[0m\u001b[1;33m\u001b[0m\u001b[0m\n\u001b[0;32m   1070\u001b[0m             \u001b[0mlock\u001b[0m\u001b[1;33m.\u001b[0m\u001b[0mrelease\u001b[0m\u001b[1;33m(\u001b[0m\u001b[1;33m)\u001b[0m\u001b[1;33m\u001b[0m\u001b[1;33m\u001b[0m\u001b[0m\n\u001b[1;32m-> 1071\u001b[1;33m             \u001b[0mself\u001b[0m\u001b[1;33m.\u001b[0m\u001b[0m_stop\u001b[0m\u001b[1;33m(\u001b[0m\u001b[1;33m)\u001b[0m\u001b[1;33m\u001b[0m\u001b[1;33m\u001b[0m\u001b[0m\n\u001b[0m\u001b[0;32m   1072\u001b[0m \u001b[1;33m\u001b[0m\u001b[0m\n\u001b[0;32m   1073\u001b[0m     \u001b[1;33m@\u001b[0m\u001b[0mproperty\u001b[0m\u001b[1;33m\u001b[0m\u001b[1;33m\u001b[0m\u001b[0m\n",
      "\u001b[1;31mTypeError\u001b[0m: 'Event' object is not callable"
     ]
    },
    {
     "name": "stdout",
     "output_type": "stream",
     "text": [
      "Thread alive, but it will die on program termination\n",
      "Thread alive, and it won't die on program termination\n",
      "Thread alive, and it won't die on program termination\n",
      "Thread alive, but it will die on program termination\n",
      "Thread alive, and it won't die on program termination\n",
      "Thread alive, and it won't die on program termination\n",
      "Thread alive, but it will die on program termination\n",
      "Thread alive, and it won't die on program termination\n",
      "Thread alive, and it won't die on program termination\n",
      "Thread alive, but it will die on program termination\n",
      "Thread alive, and it won't die on program termination\n",
      "Thread alive, and it won't die on program termination\n",
      "Thread alive, but it will die on program termination\n",
      "Thread alive, and it won't die on program termination\n",
      "Thread alive, and it won't die on program termination\n",
      "Thread alive, but it will die on program termination\n",
      "Thread alive, and it won't die on program termination\n",
      "Thread alive, and it won't die on program termination\n",
      "Thread alive, but it will die on program termination\n",
      "Thread alive, and it won't die on program termination\n",
      "Thread alive, and it won't die on program termination\n",
      "Thread alive, but it will die on program termination\n",
      "Thread alive, and it won't die on program termination\n",
      "Thread alive, and it won't die on program termination\n",
      "Thread alive, but it will die on program termination\n",
      "Thread alive, and it won't die on program termination\n",
      "Thread alive, and it won't die on program termination\n",
      "Thread alive, but it will die on program termination\n",
      "Thread alive, and it won't die on program termination\n",
      "Thread alive, and it won't die on program termination\n",
      "Thread alive, but it will die on program termination\n",
      "Thread alive, and it won't die on program termination\n",
      "Thread alive, and it won't die on program termination\n",
      "Thread alive, but it will die on program termination\n",
      "Thread alive, and it won't die on program termination\n",
      "Thread alive, and it won't die on program termination\n",
      "Thread alive, but it will die on program termination\n",
      "Thread alive, and it won't die on program termination\n",
      "Thread alive, and it won't die on program termination\n",
      "Thread alive, but it will die on program termination\n",
      "Thread alive, and it won't die on program termination\n",
      "Thread alive, and it won't die on program termination\n",
      "Thread alive, but it will die on program termination\n",
      "Thread alive, and it won't die on program termination\n",
      "Thread alive, and it won't die on program termination\n",
      "Thread alive, but it will die on program termination\n",
      "Thread alive, and it won't die on program termination\n",
      "Thread alive, and it won't die on program termination\n",
      "Thread alive, but it will die on program termination\n",
      "Thread alive, and it won't die on program termination\n",
      "Thread alive, and it won't die on program termination\n",
      "Thread alive, but it will die on program termination\n",
      "Thread alive, and it won't die on program termination\n",
      "Thread alive, and it won't die on program termination\n",
      "Thread alive, but it will die on program termination\n",
      "Thread alive, and it won't die on program termination\n",
      "Thread alive, and it won't die on program termination\n",
      "Thread alive, but it will die on program termination\n"
     ]
    }
   ],
   "source": [
    "import time\n",
    "import threading\n",
    " \n",
    "class MyThread(threading.Thread):\n",
    " \n",
    "    # Thread class with a _stop() method.\n",
    "    # The thread itself has to check\n",
    "    # regularly for the stopped() condition.\n",
    " \n",
    "    def __init__(self, *args, **kwargs):\n",
    "        super(MyThread, self).__init__(*args, **kwargs)\n",
    "        self._stop = threading.Event()\n",
    " \n",
    "    # function using _stop function\n",
    "    def stop(self):\n",
    "        self._stop.set()\n",
    " \n",
    "    def stopped(self):\n",
    "        return self._stop.isSet()\n",
    " \n",
    "    def run(self):\n",
    "        while True:\n",
    "            if self.stopped():\n",
    "                return\n",
    "            print(\"Hello, world!\")\n",
    "            time.sleep(1)\n",
    " \n",
    "t1 = MyThread()\n",
    " \n",
    "t1.start()\n",
    "time.sleep(2)\n",
    "t1.stop()\n",
    "t1.join()"
   ]
  }
 ],
 "metadata": {
  "kernelspec": {
   "display_name": "Python 3 (ipykernel)",
   "language": "python",
   "name": "python3"
  },
  "language_info": {
   "codemirror_mode": {
    "name": "ipython",
    "version": 3
   },
   "file_extension": ".py",
   "mimetype": "text/x-python",
   "name": "python",
   "nbconvert_exporter": "python",
   "pygments_lexer": "ipython3",
   "version": "3.9.6"
  }
 },
 "nbformat": 4,
 "nbformat_minor": 5
}
